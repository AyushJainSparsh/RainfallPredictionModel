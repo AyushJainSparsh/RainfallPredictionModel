{
 "cells": [
  {
   "cell_type": "markdown",
   "id": "e7ead5c6-c133-49f3-9754-750ae6ed0068",
   "metadata": {
    "jp-MarkdownHeadingCollapsed": true
   },
   "source": [
    "# Importing everthing"
   ]
  },
  {
   "cell_type": "code",
   "execution_count": 1,
   "id": "d81502ca-d826-4656-9dd8-fcd8e09d6b4f",
   "metadata": {},
   "outputs": [],
   "source": [
    "import numpy as np\n",
    "import pandas as pd \n",
    "import matplotlib.pyplot as plt\n",
    "%matplotlib inline\n",
    "import seaborn as sns"
   ]
  },
  {
   "cell_type": "code",
   "execution_count": 2,
   "id": "c021dd28-b0e1-43e6-81b3-af8870a57fea",
   "metadata": {},
   "outputs": [],
   "source": [
    "dataset = pd.read_csv(r'WestUttarPradeshClimate.csv')\n",
    "dataset = dataset[['ANNUAL','JUL','AUG','SEP','OCT']]\n",
    "X = dataset[['ANNUAL']]\n",
    "y = dataset[['JUL','AUG','SEP','OCT']]"
   ]
  },
  {
   "cell_type": "code",
   "execution_count": 3,
   "id": "c2556079-25e8-4e3f-ae1c-7b9fcf5261fe",
   "metadata": {},
   "outputs": [],
   "source": [
    "from sklearn.model_selection import train_test_split\n",
    "X_train, X_test, y_train, y_test = train_test_split( X, y, test_size=0.3, random_state=42)"
   ]
  },
  {
   "cell_type": "markdown",
   "id": "816dbe63-fa17-4911-9e43-771a69d58fad",
   "metadata": {
    "jp-MarkdownHeadingCollapsed": true
   },
   "source": [
    "# Lasso Regression"
   ]
  },
  {
   "cell_type": "code",
   "execution_count": 4,
   "id": "208ab978-b437-45e8-a7f9-5f253cbe22ec",
   "metadata": {},
   "outputs": [
    {
     "name": "stdout",
     "output_type": "stream",
     "text": [
      "mean_squared_error =  4665.778017822257\n",
      "r2_score =  0.2524525240656513\n",
      "mean_absolute_error =  51.66754205031179\n"
     ]
    }
   ],
   "source": [
    "from sklearn.linear_model import Lasso\n",
    "from sklearn.metrics import mean_squared_error\n",
    "from sklearn.metrics import mean_absolute_error\n",
    "from sklearn.metrics import r2_score\n",
    "model = Lasso()\n",
    "model.fit(X_train , y_train)\n",
    "pred = model.predict(X_test)\n",
    "print('mean_squared_error = ',mean_squared_error(y_test , pred))\n",
    "print('r2_score = ',r2_score(y_test , pred))\n",
    "print('mean_absolute_error = ',mean_absolute_error(y_test , pred))"
   ]
  },
  {
   "cell_type": "markdown",
   "id": "e72f4fdf-3c7b-44c3-ae89-ceda419d0f68",
   "metadata": {
    "jp-MarkdownHeadingCollapsed": true
   },
   "source": [
    "# Grid Search for Lasso"
   ]
  },
  {
   "cell_type": "code",
   "execution_count": 6,
   "id": "f010a994-7ffa-44fd-82d9-de815d9d3a95",
   "metadata": {},
   "outputs": [
    {
     "name": "stdout",
     "output_type": "stream",
     "text": [
      "Best Parameters :  {'alpha': 20, 'selection': 'cyclic'}\n",
      "Best Score :  0.11129638657308667\n",
      "mean_squared_error =  4666.759071622491\n",
      "r2_score =  0.2524432039686251\n",
      "mean_absolute_error =  51.6694845713184\n"
     ]
    }
   ],
   "source": [
    "from sklearn.linear_model import Lasso\n",
    "from sklearn.model_selection import GridSearchCV\n",
    "from sklearn.metrics import mean_squared_error\n",
    "from sklearn.metrics import mean_absolute_error\n",
    "from sklearn.metrics import r2_score\n",
    "model = Lasso()\n",
    "alpha = [1,2,3,4,5,10,20]\n",
    "cv = [2,10,5]\n",
    "selection = ['cyclic', 'random']\n",
    "params = dict(alpha = alpha , selection = selection)\n",
    "\n",
    "grid = GridSearchCV(estimator=model, param_grid=params, scoring='r2')\n",
    "\n",
    "grid.fit(X_train , y_train)\n",
    "pred = grid.predict(X_test)\n",
    "print('Best Parameters : ',grid.best_params_)\n",
    "print('Best Score : ',grid.best_score_)\n",
    "print('mean_squared_error = ',mean_squared_error(y_test , pred))\n",
    "print('r2_score = ',r2_score(y_test , pred))\n",
    "print('mean_absolute_error = ',mean_absolute_error(y_test , pred))"
   ]
  },
  {
   "cell_type": "code",
   "execution_count": 7,
   "id": "7b584d0a-1b86-4e89-994f-fa036ecf31e4",
   "metadata": {},
   "outputs": [],
   "source": [
    "# Lasso Regression is a complete failure"
   ]
  },
  {
   "cell_type": "markdown",
   "id": "c6aeb897-144e-49b5-b657-f7cf9775b994",
   "metadata": {
    "jp-MarkdownHeadingCollapsed": true
   },
   "source": [
    "# Ridge Regression"
   ]
  },
  {
   "cell_type": "code",
   "execution_count": 8,
   "id": "ac481269-8437-42a1-a919-331095acde34",
   "metadata": {},
   "outputs": [
    {
     "name": "stdout",
     "output_type": "stream",
     "text": [
      "mean_squared_error =  4665.7271274268915\n",
      "r2_score =  0.2524528729882812\n",
      "mean_absolute_error =  51.66744106997102\n"
     ]
    }
   ],
   "source": [
    "from sklearn.linear_model import Ridge\n",
    "from sklearn.metrics import mean_squared_error\n",
    "from sklearn.metrics import mean_absolute_error\n",
    "from sklearn.metrics import r2_score\n",
    "model = Ridge()\n",
    "model.fit(X_train , y_train)\n",
    "pred = model.predict(X_test)\n",
    "print('mean_squared_error = ',mean_squared_error(y_test , pred))\n",
    "print('r2_score = ',r2_score(y_test , pred))\n",
    "print('mean_absolute_error = ',mean_absolute_error(y_test , pred))"
   ]
  },
  {
   "cell_type": "markdown",
   "id": "931ee1b3-c205-4986-9b0f-b6bced7fcf16",
   "metadata": {
    "jp-MarkdownHeadingCollapsed": true
   },
   "source": [
    "# Ridge Regression Gird Search"
   ]
  },
  {
   "cell_type": "code",
   "execution_count": 9,
   "id": "4ecdda8d-853b-4ad7-ac09-6c8cf6d0e60a",
   "metadata": {},
   "outputs": [
    {
     "name": "stdout",
     "output_type": "stream",
     "text": [
      "Best Parameters :  {'alpha': 2, 'solver': 'saga'}\n",
      "Best Score :  0.11101460867369099\n",
      "mean_squared_error =  4665.668560547771\n",
      "r2_score =  0.25250149444070996\n",
      "mean_absolute_error =  51.66275934522364\n"
     ]
    },
    {
     "name": "stderr",
     "output_type": "stream",
     "text": [
      "C:\\Users\\ayush\\AppData\\Local\\Programs\\Python\\Python312\\Lib\\site-packages\\sklearn\\model_selection\\_validation.py:540: FitFailedWarning: \n",
      "35 fits failed out of a total of 280.\n",
      "The score on these train-test partitions for these parameters will be set to nan.\n",
      "If these failures are not expected, you can try to debug them by setting error_score='raise'.\n",
      "\n",
      "Below are more details about the failures:\n",
      "--------------------------------------------------------------------------------\n",
      "35 fits failed with the following error:\n",
      "Traceback (most recent call last):\n",
      "  File \"C:\\Users\\ayush\\AppData\\Local\\Programs\\Python\\Python312\\Lib\\site-packages\\sklearn\\model_selection\\_validation.py\", line 888, in _fit_and_score\n",
      "    estimator.fit(X_train, y_train, **fit_params)\n",
      "  File \"C:\\Users\\ayush\\AppData\\Local\\Programs\\Python\\Python312\\Lib\\site-packages\\sklearn\\base.py\", line 1473, in wrapper\n",
      "    return fit_method(estimator, *args, **kwargs)\n",
      "           ^^^^^^^^^^^^^^^^^^^^^^^^^^^^^^^^^^^^^^\n",
      "  File \"C:\\Users\\ayush\\AppData\\Local\\Programs\\Python\\Python312\\Lib\\site-packages\\sklearn\\linear_model\\_ridge.py\", line 1250, in fit\n",
      "    return super().fit(X, y, sample_weight=sample_weight)\n",
      "           ^^^^^^^^^^^^^^^^^^^^^^^^^^^^^^^^^^^^^^^^^^^^^^\n",
      "  File \"C:\\Users\\ayush\\AppData\\Local\\Programs\\Python\\Python312\\Lib\\site-packages\\sklearn\\linear_model\\_ridge.py\", line 918, in fit\n",
      "    raise ValueError(\n",
      "ValueError: 'lbfgs' solver can be used only when positive=True. Please use another solver.\n",
      "\n",
      "  warnings.warn(some_fits_failed_message, FitFailedWarning)\n",
      "C:\\Users\\ayush\\AppData\\Local\\Programs\\Python\\Python312\\Lib\\site-packages\\sklearn\\model_selection\\_search.py:1052: UserWarning: One or more of the test scores are non-finite: [0.11089953 0.11089953 0.11089953 0.11089953 0.11089953 0.11095613\n",
      " 0.11090452        nan 0.11089958 0.11089958 0.11089958 0.11089958\n",
      " 0.11089958 0.1109106  0.11101461        nan 0.11089963 0.11089963\n",
      " 0.11089963 0.11089963 0.11089963 0.11093261 0.11089642        nan\n",
      " 0.11089967 0.11089967 0.11089967 0.11089967 0.11089967 0.11090556\n",
      " 0.11091393        nan 0.11089972 0.11089972 0.11089972 0.11089972\n",
      " 0.11089972 0.11090754 0.11087816        nan 0.11089996 0.11089996\n",
      " 0.11089996 0.11089996 0.11089996 0.11088768 0.11085282        nan\n",
      " 0.11090044 0.11090044 0.11090044 0.11090044 0.11090044 0.11087252\n",
      " 0.11090296        nan]\n",
      "  warnings.warn(\n"
     ]
    }
   ],
   "source": [
    "from sklearn.linear_model import Ridge\n",
    "from sklearn.model_selection import GridSearchCV\n",
    "from sklearn.metrics import mean_squared_error\n",
    "from sklearn.metrics import mean_absolute_error\n",
    "from sklearn.metrics import r2_score\n",
    "model = Ridge()\n",
    "alpha = [1,2,3,4,5,10,20]\n",
    "solver = ['auto', 'svd', 'cholesky', 'lsqr', 'sparse_cg', 'sag', 'saga', 'lbfgs']\n",
    "cv = [2,10,5]\n",
    "params = dict(alpha = alpha , solver = solver)\n",
    "\n",
    "grid = GridSearchCV(estimator=model, param_grid=params, scoring='r2')\n",
    "\n",
    "grid.fit(X_train , y_train)\n",
    "pred = grid.predict(X_test)\n",
    "print('Best Parameters : ',grid.best_params_)\n",
    "print('Best Score : ',grid.best_score_)\n",
    "print('mean_squared_error = ',mean_squared_error(y_test , pred))\n",
    "print('r2_score = ',r2_score(y_test , pred))\n",
    "print('mean_absolute_error = ',mean_absolute_error(y_test , pred))"
   ]
  },
  {
   "cell_type": "code",
   "execution_count": 10,
   "id": "6b063fdf-1be2-453b-a293-2ef44e7c481a",
   "metadata": {},
   "outputs": [],
   "source": [
    "#again its also a failure"
   ]
  },
  {
   "cell_type": "markdown",
   "id": "747f065c-8493-4082-9163-55a5b78ab6f7",
   "metadata": {
    "jp-MarkdownHeadingCollapsed": true
   },
   "source": [
    "# K Nearest Neighbour"
   ]
  },
  {
   "cell_type": "code",
   "execution_count": 14,
   "id": "e8206563-52d1-47a3-8f89-c3b43d3d80e0",
   "metadata": {},
   "outputs": [
    {
     "name": "stdout",
     "output_type": "stream",
     "text": [
      "mean_squared_error =  5814.179760000001\n",
      "r2_score =  -0.036262874757385766\n",
      "mean_absolute_error =  59.49657142857143\n"
     ]
    }
   ],
   "source": [
    "from sklearn.neighbors import KNeighborsRegressor\n",
    "from sklearn.metrics import mean_squared_error\n",
    "from sklearn.metrics import mean_absolute_error\n",
    "from sklearn.metrics import r2_score\n",
    "model = KNeighborsRegressor()\n",
    "model.fit(X_train , y_train)\n",
    "pred = model.predict(X_test)\n",
    "print('mean_squared_error = ',mean_squared_error(y_test , pred))\n",
    "print('r2_score = ',r2_score(y_test , pred))\n",
    "print('mean_absolute_error = ',mean_absolute_error(y_test , pred))"
   ]
  },
  {
   "cell_type": "markdown",
   "id": "4a77201b-d517-409e-bf54-80937604e665",
   "metadata": {
    "jp-MarkdownHeadingCollapsed": true
   },
   "source": [
    "# KNN Regressor Grid Search"
   ]
  },
  {
   "cell_type": "code",
   "execution_count": 17,
   "id": "f3065a1d-c2c9-45ca-8661-d3a9c3824002",
   "metadata": {},
   "outputs": [
    {
     "name": "stdout",
     "output_type": "stream",
     "text": [
      "Best Parameters :  {'algorithm': 'brute', 'n_neighbors': 20, 'weights': 'uniform'}\n",
      "Best Score :  0.10720435757286925\n",
      "mean_squared_error =  5186.125187857144\n",
      "r2_score =  0.13265399333710545\n",
      "mean_absolute_error =  54.638857142857134\n"
     ]
    }
   ],
   "source": [
    "from sklearn.neighbors import KNeighborsRegressor\n",
    "from sklearn.model_selection import GridSearchCV\n",
    "from sklearn.metrics import mean_squared_error\n",
    "from sklearn.metrics import mean_absolute_error\n",
    "from sklearn.metrics import r2_score\n",
    "model = KNeighborsRegressor()\n",
    "n_neighbors = [5,10,20, 50]\n",
    "weights = ['uniform', 'distance']\n",
    "algorithm = ['auto', 'ball_tree', 'kd_tree', 'brute']\n",
    "cv = [2,10,5]\n",
    "params = dict(n_neighbors = n_neighbors , weights = weights , algorithm = algorithm)\n",
    "\n",
    "grid = GridSearchCV(estimator=model, param_grid=params, scoring='r2')\n",
    "\n",
    "grid.fit(X_train , y_train)\n",
    "pred = grid.predict(X_test)\n",
    "print('Best Parameters : ',grid.best_params_)\n",
    "print('Best Score : ',grid.best_score_)\n",
    "print('mean_squared_error = ',mean_squared_error(y_test , pred))\n",
    "print('r2_score = ',r2_score(y_test , pred))\n",
    "print('mean_absolute_error = ',mean_absolute_error(y_test , pred))"
   ]
  },
  {
   "cell_type": "markdown",
   "id": "b7c8033a-2a0c-413c-aca5-ebb02186cdb3",
   "metadata": {},
   "source": [
    "# Result"
   ]
  },
  {
   "cell_type": "raw",
   "id": "331ef645-bdc3-4430-8c42-fcd4c8dd81e4",
   "metadata": {},
   "source": [
    "# Linear Regression\n",
    "    mean_squared_error =  4665.726919124022\n",
    "    r2_score =  0.25245288476564975\n",
    "    mean_absolute_error =  51.66743981236407\n",
    "\n",
    "# Lasso\n",
    "    mean_squared_error =  4665.778017822257\n",
    "    r2_score =  0.2524525240656513\n",
    "    mean_absolute_error =  51.66754205031179\n",
    "\n",
    "# Lasso Grid Search\n",
    "    Best Parameters :  {'alpha': 20, 'selection': 'cyclic'}\n",
    "    Best Score :  0.11129638657308667\n",
    "    mean_squared_error =  4666.759071622491\n",
    "    r2_score =  0.2524432039686251\n",
    "    mean_absolute_error =  51.6694845713184\n",
    "\n",
    "# Ridge\n",
    "    mean_squared_error =  4665.7271274268915\n",
    "    r2_score =  0.2524528729882812\n",
    "    mean_absolute_error =  51.66744106997102\n",
    "\n",
    "# Ridge Grid Search\n",
    "    Best Parameters :  {'alpha': 2, 'solver': 'saga'}\n",
    "    Best Score :  0.11101460867369099\n",
    "    mean_squared_error =  4665.668560547771\n",
    "    r2_score =  0.25250149444070996\n",
    "    mean_absolute_error =  51.66275934522364\n",
    "\n",
    "# Multi Elastic Net CV                                                                  (Selected At Present)\n",
    "    mean_squared_error =  4200.865336232348\n",
    "    r2_score =  0.3128224913203606\n",
    "    mean_absolute_error =  49.44685977565864\n",
    "\n",
    "# Multi Elastic Net CV Grid Search\n",
    "    Best Parameters :  {'l1_ratio': 0.1, 'selection': 'cyclic'}\n",
    "    Best Score :  0.11467484148900224\n",
    "    mean_squared_error =  4676.313095593499\n",
    "    r2_score =  0.25181218461527655\n",
    "    mean_absolute_error =  51.7281842637616\n",
    "\n",
    "# KNN \n",
    "    mean_squared_error =  5814.179760000001\n",
    "    r2_score =  -0.036262874757385766\n",
    "    mean_absolute_error =  59.49657142857143\n",
    "\n",
    "# KNN Grid Search\n",
    "    Best Parameters :  {'algorithm': 'brute', 'n_neighbors': 20, 'weights': 'uniform'}\n",
    "    Best Score :  0.10720435757286925\n",
    "    mean_squared_error =  5186.125187857144\n",
    "    r2_score =  0.13265399333710545\n",
    "    mean_absolute_error =  54.638857142857134"
   ]
  },
  {
   "cell_type": "code",
   "execution_count": null,
   "id": "bdfd888a-d57a-4752-ac6e-3fba7d3dd11f",
   "metadata": {},
   "outputs": [],
   "source": []
  }
 ],
 "metadata": {
  "kernelspec": {
   "display_name": "Python 3 (ipykernel)",
   "language": "python",
   "name": "python3"
  },
  "language_info": {
   "codemirror_mode": {
    "name": "ipython",
    "version": 3
   },
   "file_extension": ".py",
   "mimetype": "text/x-python",
   "name": "python",
   "nbconvert_exporter": "python",
   "pygments_lexer": "ipython3",
   "version": "3.12.4"
  }
 },
 "nbformat": 4,
 "nbformat_minor": 5
}
